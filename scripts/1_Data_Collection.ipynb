{
 "cells": [
  {
   "cell_type": "code",
   "id": "initial_id",
   "metadata": {
    "collapsed": true,
    "ExecuteTime": {
     "start_time": "2024-12-23T07:13:19.514434Z"
    }
   },
   "source": [
    "# ################## DELETE SESSION ##################\n",
    "import fiftyone as fo\n",
    "dataset = fo.load_dataset(\"25_images\")\n",
    "dataset.delete()\n",
    "# ####################################################"
   ],
   "outputs": [],
   "execution_count": null
  },
  {
   "metadata": {
    "ExecuteTime": {
     "end_time": "2024-12-23T07:14:00.837894Z",
     "start_time": "2024-12-23T07:13:52.377633Z"
    }
   },
   "cell_type": "code",
   "source": [
    "# ################## LIST EXISTING SESSIONS ##################\n",
    "import fiftyone as fo\n",
    "\n",
    "datasets = fo.list_datasets()\n",
    "# dataset = fo.load_dataset(\"images\")\n",
    "print(fo.list_datasets())"
   ],
   "id": "fe944bce9a0bb57f",
   "outputs": [
    {
     "name": "stdout",
     "output_type": "stream",
     "text": [
      "[]\n"
     ]
    }
   ],
   "execution_count": 1
  },
  {
   "metadata": {},
   "cell_type": "code",
   "source": [
    "# ################## CREATE NEW SESSION ##################\n",
    "\n",
    "import fiftyone as fo\n",
    "import os\n",
    "\n",
    "name = \"18july\"\n",
    "dataset_dir = \"//Aidatastorage/sps/IMAGES_EXPORT_2024JUN26\"\n",
    "\n",
    "ds_17jul = fo.Dataset.from_dir(\n",
    "    dataset_dir=dataset_dir,\n",
    "    dataset_type=fo.types.FiftyOneDataset,\n",
    "    name=name,\n",
    "    progress=True\n",
    ")\n",
    "\n",
    "session = fo.launch_app(ds_17jul)\n",
    "\n",
    "ds_17jul.persistent = True"
   ],
   "id": "b7c7149f946b9126",
   "outputs": [],
   "execution_count": null
  },
  {
   "metadata": {},
   "cell_type": "code",
   "source": [
    "# ################## LOAD CURRENT DATASET VIEW ##################\n",
    "import fiftyone as fo \n",
    "\n",
    "ds_17jul = fo.load_dataset('18july')\n",
    "\n",
    "ds_17jul_session = fo.launch_app(ds_17jul)\n",
    "ds_17jul_session.wait()"
   ],
   "id": "f429cde3d294babc",
   "outputs": [],
   "execution_count": null
  },
  {
   "metadata": {},
   "cell_type": "code",
   "source": [
    "# ################## EXPORT IMAGES ##################\n",
    "errors_ids = ds_17jul_session.view\n",
    "\n",
    "errors_ids.export(\n",
    "    dataset_type=fo.types.FiftyOneDataset,\n",
    "    export_dir=\"C:\\\\Users\\\\MaxwellLee\\\\PycharmProjects\\\\UVSM\\\\test\",\n",
    "    abs_paths=True,\n",
    ")"
   ],
   "id": "c60a3c9fd32aefba",
   "outputs": [],
   "execution_count": null
  },
  {
   "metadata": {},
   "cell_type": "code",
   "source": [
    "# ################## RESIZE IMAGES ##################\n",
    "import os\n",
    "from PIL import Image\n",
    "\n",
    "images_path = r\"C:\\Users\\MaxwellLee\\PycharmProjects\\UVSM\\test\\data\"\n",
    "\n",
    "heights = []\n",
    "widths = []\n",
    "\n",
    "for filename in os.listdir(images_path):\n",
    "    if filename.lower().endswith(\".jpg\"):\n",
    "        file_path = os.path.join(images_path, filename)\n",
    "        \n",
    "        try:\n",
    "            with Image.open(file_path) as image:\n",
    "                width, height = image.size\n",
    "                \n",
    "                if height >= 640:\n",
    "                    # Set desired dimensions\n",
    "                    new_height = 640\n",
    "                    new_width = 640\n",
    "                    # Option 1: Maintain aspect ratio\n",
    "                    #a#spect_ratio = width / height\n",
    "                    #new_width = int(new_height * aspect_ratio)\n",
    "                    \n",
    "                    # Option 2: Set width to a specific value\n",
    "                    # new_width = 6300\n",
    "                    # new_height = int(new_width / aspect_ratio)\n",
    "                    \n",
    "                    # Resize the image\n",
    "                    resized_image = image.resize((new_width, new_height), Image.LANCZOS)\n",
    "                    \n",
    "                    # Save the resized image\n",
    "                    resized_image.save(file_path)\n",
    "                    \n",
    "                    # Update width and height\n",
    "                    width, height = resized_image.size\n",
    "                \n",
    "                # Append the dimensions to the lists\n",
    "                heights.append(height)\n",
    "                widths.append(width)\n",
    "        except Exception as e:\n",
    "            print(f\"Error processing {filename}: {e}\")\n",
    "\n",
    "if heights:\n",
    "    print(\"Minimum height:\", min(heights))\n",
    "else:\n",
    "    print(\"Error: No images processed.\")"
   ],
   "id": "de563f06c21abda1",
   "outputs": [],
   "execution_count": null
  }
 ],
 "metadata": {
  "kernelspec": {
   "display_name": "Python 3",
   "language": "python",
   "name": "python3"
  },
  "language_info": {
   "codemirror_mode": {
    "name": "ipython",
    "version": 2
   },
   "file_extension": ".py",
   "mimetype": "text/x-python",
   "name": "python",
   "nbconvert_exporter": "python",
   "pygments_lexer": "ipython2",
   "version": "2.7.6"
  }
 },
 "nbformat": 4,
 "nbformat_minor": 5
}
