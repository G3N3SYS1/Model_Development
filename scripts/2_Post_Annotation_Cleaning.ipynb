{
 "cells": [
  {
   "metadata": {
    "ExecuteTime": {
     "end_time": "2024-12-20T02:33:53.752320Z",
     "start_time": "2024-12-20T02:33:53.634809Z"
    }
   },
   "cell_type": "code",
   "source": [
    "# ################## RENAME IMAGES INSIDE JSON FILE (STEP 1 OF 2) ##################\n",
    "import json\n",
    "import sys\n",
    "\n",
    "folder = \"25_images\"\n",
    "\n",
    "# open file in read-mode\n",
    "filename = \"C:\\\\Users\\\\MaxwellLee\\\\PycharmProjects\\\\UVSM\\\\\" + folder + \"/result.json\"\n",
    "with open(filename, \"r\") as file:\n",
    "    # read JSON images\n",
    "    data = json.load(file)\n",
    "    print(data[\"images\"])\n",
    "    for image in data[\"images\"]:\n",
    "        print(\"\\n {}\".format(image[\"file_name\"]))\n",
    "        edit_fname = image[\"file_name\"].split(\"/\")\n",
    "\n",
    "        # Update the value\n",
    "        image[\"file_name\"] = edit_fname[-1]\n",
    "\n",
    "# Open the file for writing and write the updated images\n",
    "with open(filename, \"w\") as f:\n",
    "    json.dump(data, f, indent=4)"
   ],
   "id": "daa93d3c2371a27e",
   "outputs": [
    {
     "name": "stdout",
     "output_type": "stream",
     "text": [
      "[{'width': 640, 'height': 640, 'id': 0, 'file_name': 'images\\\\9ac4a96a-TC_LANE_01_IN_20240415_142506_UVSS_RAW.jpg'}, {'width': 640, 'height': 640, 'id': 1, 'file_name': 'images\\\\73ff8f81-TC_LANE_01_IN_20240513_112018_UVSS_RAW.jpg'}, {'width': 640, 'height': 640, 'id': 2, 'file_name': 'images\\\\a21c8eb6-TC_LANE_01_IN_20240514_115342_UVSS_RAW.jpg'}, {'width': 640, 'height': 640, 'id': 3, 'file_name': 'images\\\\46d9f5e7-TC_LANE_01_IN_20240514_161413_UVSS_RAW.jpg'}, {'width': 640, 'height': 640, 'id': 4, 'file_name': 'images\\\\48d07c9c-TC_LANE_02_IN_20240405_193503_UVSS_RAW.jpg'}, {'width': 640, 'height': 640, 'id': 5, 'file_name': 'images\\\\16ecf8b1-TC_LANE_02_IN_20240406_185543_UVSS_RAW.jpg'}, {'width': 640, 'height': 640, 'id': 6, 'file_name': 'images\\\\217078f1-TC_LANE_02_IN_20240407_103216_UVSS_RAW.jpg'}, {'width': 640, 'height': 640, 'id': 7, 'file_name': 'images\\\\48cadb19-TC_LANE_02_IN_20240407_103936_UVSS_RAW.jpg'}, {'width': 640, 'height': 640, 'id': 8, 'file_name': 'images\\\\31aacd39-TC_LANE_02_IN_20240412_111337_UVSS_RAW.jpg'}, {'width': 640, 'height': 640, 'id': 9, 'file_name': 'images\\\\2649bb02-TC_LANE_03_IN_20240404_183620_UVSS_RAW.jpg'}, {'width': 640, 'height': 640, 'id': 10, 'file_name': 'images\\\\d5828755-TC_LANE_04_IN_20240524_101446_UVSS_RAW.jpg'}, {'width': 640, 'height': 640, 'id': 11, 'file_name': 'images\\\\22ccb413-TC_LANE_04_IN_20240524_112943_UVSS_RAW.jpg'}, {'width': 640, 'height': 640, 'id': 12, 'file_name': 'images\\\\2120d487-TC_LANE_04_IN_20240531_103156_UVSS_RAW.jpg'}, {'width': 640, 'height': 640, 'id': 13, 'file_name': 'images\\\\a202f4e5-TC_LANE_06_OUT_20240405_195703_UVSS_RAW.jpg'}, {'width': 640, 'height': 640, 'id': 14, 'file_name': 'images\\\\43a66769-TC_LANE_06_OUT_20240406_102612_UVSS_RAW.jpg'}, {'width': 640, 'height': 640, 'id': 15, 'file_name': 'images\\\\90977ac8-TC_LANE_06_OUT_20240407_115410_UVSS_RAW.jpg'}, {'width': 640, 'height': 640, 'id': 16, 'file_name': 'images\\\\0adce127-TC_LANE_06_OUT_20240427_114850_UVSS_RAW.jpg'}, {'width': 640, 'height': 640, 'id': 17, 'file_name': 'images\\\\ccfa5eb1-TC_LANE_06_OUT_20240524_114431_UVSS_RAW.jpg'}, {'width': 640, 'height': 640, 'id': 18, 'file_name': 'images\\\\7143b679-TC_LANE_06_OUT_20240524_120937_UVSS_RAW.jpg'}, {'width': 640, 'height': 640, 'id': 19, 'file_name': 'images\\\\d6c5bf79-TC_LANE_06_OUT_20240531_112735_UVSS_RAW.jpg'}, {'width': 640, 'height': 640, 'id': 20, 'file_name': 'images\\\\020095d7-CLB_LANE_12_IN_20240614_142526_UVSS_RAW.jpg'}, {'width': 640, 'height': 640, 'id': 21, 'file_name': 'images\\\\d49d7af6-CLB_LANE_12_OUT_20240614_165631_UVSS_RAW.jpg'}, {'width': 640, 'height': 640, 'id': 22, 'file_name': 'images\\\\f4f52140-CME_LANE_21_IN_20240614_141549_UVSS_RAW.jpg'}, {'width': 640, 'height': 640, 'id': 23, 'file_name': 'images\\\\be980dc2-CME_LANE_22_OUT_20240614_165841_UVSS_RAW.jpg'}, {'width': 640, 'height': 640, 'id': 24, 'file_name': 'images\\\\a601326b-TC_LANE_01_IN_20240406_094925_UVSS_RAW.jpg'}]\n",
      "\n",
      " images\\9ac4a96a-TC_LANE_01_IN_20240415_142506_UVSS_RAW.jpg\n",
      "\n",
      " images\\73ff8f81-TC_LANE_01_IN_20240513_112018_UVSS_RAW.jpg\n",
      "\n",
      " images\\a21c8eb6-TC_LANE_01_IN_20240514_115342_UVSS_RAW.jpg\n",
      "\n",
      " images\\46d9f5e7-TC_LANE_01_IN_20240514_161413_UVSS_RAW.jpg\n",
      "\n",
      " images\\48d07c9c-TC_LANE_02_IN_20240405_193503_UVSS_RAW.jpg\n",
      "\n",
      " images\\16ecf8b1-TC_LANE_02_IN_20240406_185543_UVSS_RAW.jpg\n",
      "\n",
      " images\\217078f1-TC_LANE_02_IN_20240407_103216_UVSS_RAW.jpg\n",
      "\n",
      " images\\48cadb19-TC_LANE_02_IN_20240407_103936_UVSS_RAW.jpg\n",
      "\n",
      " images\\31aacd39-TC_LANE_02_IN_20240412_111337_UVSS_RAW.jpg\n",
      "\n",
      " images\\2649bb02-TC_LANE_03_IN_20240404_183620_UVSS_RAW.jpg\n",
      "\n",
      " images\\d5828755-TC_LANE_04_IN_20240524_101446_UVSS_RAW.jpg\n",
      "\n",
      " images\\22ccb413-TC_LANE_04_IN_20240524_112943_UVSS_RAW.jpg\n",
      "\n",
      " images\\2120d487-TC_LANE_04_IN_20240531_103156_UVSS_RAW.jpg\n",
      "\n",
      " images\\a202f4e5-TC_LANE_06_OUT_20240405_195703_UVSS_RAW.jpg\n",
      "\n",
      " images\\43a66769-TC_LANE_06_OUT_20240406_102612_UVSS_RAW.jpg\n",
      "\n",
      " images\\90977ac8-TC_LANE_06_OUT_20240407_115410_UVSS_RAW.jpg\n",
      "\n",
      " images\\0adce127-TC_LANE_06_OUT_20240427_114850_UVSS_RAW.jpg\n",
      "\n",
      " images\\ccfa5eb1-TC_LANE_06_OUT_20240524_114431_UVSS_RAW.jpg\n",
      "\n",
      " images\\7143b679-TC_LANE_06_OUT_20240524_120937_UVSS_RAW.jpg\n",
      "\n",
      " images\\d6c5bf79-TC_LANE_06_OUT_20240531_112735_UVSS_RAW.jpg\n",
      "\n",
      " images\\020095d7-CLB_LANE_12_IN_20240614_142526_UVSS_RAW.jpg\n",
      "\n",
      " images\\d49d7af6-CLB_LANE_12_OUT_20240614_165631_UVSS_RAW.jpg\n",
      "\n",
      " images\\f4f52140-CME_LANE_21_IN_20240614_141549_UVSS_RAW.jpg\n",
      "\n",
      " images\\be980dc2-CME_LANE_22_OUT_20240614_165841_UVSS_RAW.jpg\n",
      "\n",
      " images\\a601326b-TC_LANE_01_IN_20240406_094925_UVSS_RAW.jpg\n"
     ]
    }
   ],
   "execution_count": 1
  },
  {
   "metadata": {
    "ExecuteTime": {
     "end_time": "2024-12-20T02:34:11.134756Z",
     "start_time": "2024-12-20T02:34:11.006705Z"
    }
   },
   "cell_type": "code",
   "source": [
    "# ################## RENAME IMAGES INSIDE JSON FILE (STEP 2 OF 2) ##################\n",
    "import json\n",
    "\n",
    "input_file = 'C:\\\\Users\\\\MaxwellLee\\\\PycharmProjects\\\\UVSM\\\\25_images\\\\result.json'\n",
    "output_file = 'C:\\\\Users\\\\MaxwellLee\\\\PycharmProjects\\\\UVSM\\\\25_images\\\\result.json'\n",
    "with open(input_file, 'r') as f:\n",
    "    data = json.load(f)\n",
    "\n",
    "for image in data['images']:\n",
    "    image['file_name'] = \"C:\\\\Users\\\\MaxwellLee\\\\PycharmProjects\\\\UVSM\\\\25_images\\\\\" + image['file_name']\n",
    "# for annotation in images['annotations']:\n",
    "#     for segmentation in annotation['segmentation']:\n",
    "#         annotation['segmentation'] = segmentation\n",
    "with open(output_file, 'w') as f:\n",
    "    json.dump(data, f, indent=4)\n",
    "\n",
    "print(\"Modifications complete. Updated file saved as\", output_file)"
   ],
   "id": "4a0b13251fd630c3",
   "outputs": [
    {
     "name": "stdout",
     "output_type": "stream",
     "text": [
      "Modifications complete. Updated file saved as C:\\Users\\MaxwellLee\\PycharmProjects\\UVSM\\25_images\\result.json\n"
     ]
    }
   ],
   "execution_count": 2
  }
 ],
 "metadata": {
  "kernelspec": {
   "display_name": "Python 3",
   "language": "python",
   "name": "python3"
  },
  "language_info": {
   "codemirror_mode": {
    "name": "ipython",
    "version": 2
   },
   "file_extension": ".py",
   "mimetype": "text/x-python",
   "name": "python",
   "nbconvert_exporter": "python",
   "pygments_lexer": "ipython2",
   "version": "2.7.6"
  }
 },
 "nbformat": 4,
 "nbformat_minor": 5
}
