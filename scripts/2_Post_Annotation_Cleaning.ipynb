{
 "cells": [
  {
   "metadata": {
    "ExecuteTime": {
     "end_time": "2024-12-31T01:29:52.757876Z",
     "start_time": "2024-12-31T01:29:52.737352Z"
    }
   },
   "cell_type": "code",
   "source": [
    "# ################## RENAME IMAGES INSIDE JSON FILE (STEP 1 OF 2) ##################\n",
    "import json\n",
    "import sys\n",
    "\n",
    "folder = \"1_image\"\n",
    "\n",
    "# open file in read-mode\n",
    "filename = \"C:\\\\Users\\\\MaxwellLee\\\\PycharmProjects\\\\UVSM\\\\\" + folder + \"/result.json\"\n",
    "with open(filename, \"r\") as file:\n",
    "    # read JSON images\n",
    "    data = json.load(file)\n",
    "    print(data[\"images\"])\n",
    "    for image in data[\"images\"]:\n",
    "        print(\"\\n {}\".format(image[\"file_name\"]))\n",
    "        edit_fname = image[\"file_name\"].split(\"/\")\n",
    "\n",
    "        # Update the value\n",
    "        image[\"file_name\"] = edit_fname[-1]\n",
    "\n",
    "# Open the file for writing and write the updated images\n",
    "with open(filename, \"w\") as f:\n",
    "    json.dump(data, f, indent=4)"
   ],
   "id": "daa93d3c2371a27e",
   "outputs": [
    {
     "name": "stdout",
     "output_type": "stream",
     "text": [
      "[{'width': 640, 'height': 640, 'id': 0, 'file_name': 'images\\\\466e7d4b-TC_LANE_02_IN_20240407_103936_UVSS_RAW.jpg'}]\n",
      "\n",
      " images\\466e7d4b-TC_LANE_02_IN_20240407_103936_UVSS_RAW.jpg\n"
     ]
    }
   ],
   "execution_count": 2
  },
  {
   "metadata": {
    "ExecuteTime": {
     "end_time": "2024-12-31T01:30:27.754422Z",
     "start_time": "2024-12-31T01:30:27.736829Z"
    }
   },
   "cell_type": "code",
   "source": [
    "# ################## RENAME IMAGES INSIDE JSON FILE (STEP 2 OF 2) ##################\n",
    "import json\n",
    "\n",
    "input_file = 'C:\\\\Users\\\\MaxwellLee\\\\PycharmProjects\\\\UVSM\\\\1_image\\\\result.json'\n",
    "output_file = 'C:\\\\Users\\\\MaxwellLee\\\\PycharmProjects\\\\UVSM\\\\1_image\\\\result.json'\n",
    "with open(input_file, 'r') as f:\n",
    "    data = json.load(f)\n",
    "\n",
    "for image in data['images']:\n",
    "    image['file_name'] = \"C:\\\\Users\\\\MaxwellLee\\\\PycharmProjects\\\\UVSM\\\\1_image\\\\\" + image['file_name']\n",
    "# for annotation in images['annotations']:\n",
    "#     for segmentation in annotation['segmentation']:\n",
    "#         annotation['segmentation'] = segmentation\n",
    "with open(output_file, 'w') as f:\n",
    "    json.dump(data, f, indent=4)\n",
    "\n",
    "print(\"Modifications complete. Updated file saved as\", output_file)"
   ],
   "id": "4a0b13251fd630c3",
   "outputs": [
    {
     "name": "stdout",
     "output_type": "stream",
     "text": [
      "Modifications complete. Updated file saved as C:\\Users\\MaxwellLee\\PycharmProjects\\UVSM\\1_image\\result.json\n"
     ]
    }
   ],
   "execution_count": 3
  }
 ],
 "metadata": {
  "kernelspec": {
   "display_name": "Python 3",
   "language": "python",
   "name": "python3"
  },
  "language_info": {
   "codemirror_mode": {
    "name": "ipython",
    "version": 2
   },
   "file_extension": ".py",
   "mimetype": "text/x-python",
   "name": "python",
   "nbconvert_exporter": "python",
   "pygments_lexer": "ipython2",
   "version": "2.7.6"
  }
 },
 "nbformat": 4,
 "nbformat_minor": 5
}
