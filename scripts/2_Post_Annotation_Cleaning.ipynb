{
 "cells": [
  {
   "metadata": {
    "ExecuteTime": {
     "end_time": "2025-01-22T07:25:52.434829Z",
     "start_time": "2025-01-22T07:25:52.273344Z"
    }
   },
   "cell_type": "code",
   "source": [
    "# ################## RENAME IMAGES INSIDE JSON FILE (STEP 1 OF 2) ##################\n",
    "import json\n",
    "import sys\n",
    "\n",
    "folder = \"Test\"\n",
    "\n",
    "# open file in read-mode\n",
    "filename = \"Path_To_Your_Dataset\" + folder + \"/result.json\"\n",
    "with open(filename, \"r\") as file:\n",
    "    # read JSON images\n",
    "    data = json.load(file)\n",
    "    print(data[\"images\"])\n",
    "    for image in data[\"images\"]:\n",
    "        print(\"\\n {}\".format(image[\"file_name\"]))\n",
    "        edit_fname = image[\"file_name\"].split(\"/\")\n",
    "\n",
    "        # Update the value\n",
    "        image[\"file_name\"] = edit_fname[-1]\n",
    "\n",
    "# Open the file for writing and write the updated images\n",
    "with open(filename, \"w\") as f:\n",
    "    json.dump(data, f, indent=4)"
   ],
   "id": "daa93d3c2371a27e",
   "outputs": [
    {
     "name": "stdout",
     "output_type": "stream",
     "text": [
      "[{'width': 640, 'height': 640, 'id': 0, 'file_name': 'images\\\\9e231222-CME_LANE_22_OUT_20240619_150203_UVSS_RAW.jpg'}, {'width': 640, 'height': 640, 'id': 1, 'file_name': 'images\\\\c78c7ce0-TC_LANE_01_IN_20240402_104843_UVSS_RAW.jpg'}, {'width': 640, 'height': 640, 'id': 2, 'file_name': 'images\\\\2899c60c-TC_LANE_01_IN_20240403_143931_UVSS_RAW.jpg'}, {'width': 640, 'height': 640, 'id': 3, 'file_name': 'images\\\\eb23215f-TC_LANE_01_IN_20240430_085344_UVSS_RAW.jpg'}, {'width': 640, 'height': 640, 'id': 4, 'file_name': 'images\\\\eb2aeacb-TC_LANE_01_IN_20240503_112750_UVSS_RAW.jpg'}, {'width': 640, 'height': 640, 'id': 5, 'file_name': 'images\\\\ea68102f-TC_LANE_01_IN_20240511_095847_UVSS_RAW.jpg'}, {'width': 640, 'height': 640, 'id': 6, 'file_name': 'images\\\\c662fff8-TC_LANE_02_IN_20240404_175759_UVSS_RAW.jpg'}, {'width': 640, 'height': 640, 'id': 7, 'file_name': 'images\\\\47302d61-TC_LANE_02_IN_20240406_185543_UVSS_RAW.jpg'}, {'width': 640, 'height': 640, 'id': 8, 'file_name': 'images\\\\e5b9fcdf-TC_LANE_02_IN_20240413_162621_UVSS_RAW.jpg'}, {'width': 640, 'height': 640, 'id': 9, 'file_name': 'images\\\\c90b4ad4-TC_LANE_02_IN_20240506_163744_UVSS_RAW.jpg'}, {'width': 640, 'height': 640, 'id': 10, 'file_name': 'images\\\\aa91f7bf-TC_LANE_03_IN_20240403_090224_UVSS_RAW.jpg'}, {'width': 640, 'height': 640, 'id': 11, 'file_name': 'images\\\\01f0cce0-TC_LANE_03_IN_20240405_084514_UVSS_RAW.jpg'}, {'width': 640, 'height': 640, 'id': 12, 'file_name': 'images\\\\8cf35684-TC_LANE_03_IN_20240512_164527_UVSS_RAW.jpg'}, {'width': 640, 'height': 640, 'id': 13, 'file_name': 'images\\\\6b98e1c7-TC_LANE_04_IN_20240523_114400_UVSS_RAW.jpg'}, {'width': 640, 'height': 640, 'id': 14, 'file_name': 'images\\\\2d54dfe9-TC_LANE_04_IN_20240524_112154_UVSS_RAW.jpg'}, {'width': 640, 'height': 640, 'id': 15, 'file_name': 'images\\\\94c8b0e6-TC_LANE_04_IN_20240527_155503_UVSS_RAW.jpg'}, {'width': 640, 'height': 640, 'id': 16, 'file_name': 'images\\\\8c9edff3-TC_LANE_04_IN_20240528_092218_UVSS_RAW.jpg'}, {'width': 640, 'height': 640, 'id': 17, 'file_name': 'images\\\\f8c0a584-TC_LANE_04_IN_20240530_134844_UVSS_RAW.jpg'}, {'width': 640, 'height': 640, 'id': 18, 'file_name': 'images\\\\61cec55f-TC_LANE_04_IN_20240530_152344_UVSS_RAW.jpg'}, {'width': 640, 'height': 640, 'id': 19, 'file_name': 'images\\\\66f15f48-TC_LANE_04_IN_20240531_103756_UVSS_RAW.jpg'}, {'width': 640, 'height': 640, 'id': 20, 'file_name': 'images\\\\b2c32796-TC_LANE_04_OUT_20240508_153339_UVSS_RAW.jpg'}, {'width': 640, 'height': 640, 'id': 21, 'file_name': 'images\\\\74f5978e-TC_LANE_04_OUT_20240510_104339_UVSS_RAW.jpg'}, {'width': 640, 'height': 640, 'id': 22, 'file_name': 'images\\\\d45f53fa-TC_LANE_04_OUT_20240510_113603_UVSS_RAW.jpg'}, {'width': 640, 'height': 640, 'id': 23, 'file_name': 'images\\\\739e196a-TC_LANE_04_OUT_20240510_123803_UVSS_RAW.jpg'}, {'width': 640, 'height': 640, 'id': 24, 'file_name': 'images\\\\2d4fd6ea-TC_LANE_04_OUT_20240513_122815_UVSS_RAW.jpg'}, {'width': 640, 'height': 640, 'id': 25, 'file_name': 'images\\\\6724e8f3-TC_LANE_04_OUT_20240514_102858_UVSS_RAW.jpg'}, {'width': 640, 'height': 640, 'id': 26, 'file_name': 'images\\\\3199f64f-TC_LANE_04_OUT_20240514_145535_UVSS_RAW.jpg'}, {'width': 640, 'height': 640, 'id': 27, 'file_name': 'images\\\\eecb9e45-TC_LANE_04_OUT_20240516_125532_UVSS_RAW.jpg'}, {'width': 640, 'height': 640, 'id': 28, 'file_name': 'images\\\\adb5c0f6-TC_LANE_04_OUT_20240607_121043_UVSS_RAW.jpg'}, {'width': 640, 'height': 640, 'id': 29, 'file_name': 'images\\\\8bfc4d97-TC_LANE_04_OUT_20240610_102718_UVSS_RAW.jpg'}, {'width': 640, 'height': 640, 'id': 30, 'file_name': 'images\\\\01875489-TC_LANE_04_OUT_20240610_103308_UVSS_RAW.jpg'}, {'width': 640, 'height': 640, 'id': 31, 'file_name': 'images\\\\16c59369-TC_LANE_04_OUT_20240612_121626_UVSS_RAW.jpg'}, {'width': 640, 'height': 640, 'id': 32, 'file_name': 'images\\\\7b8131b6-TC_LANE_04_OUT_20240612_143941_UVSS_RAW.jpg'}, {'width': 640, 'height': 640, 'id': 33, 'file_name': 'images\\\\b22d085a-TC_LANE_04_OUT_20240612_151240_UVSS_RAW.jpg'}, {'width': 640, 'height': 640, 'id': 34, 'file_name': 'images\\\\71b1ae4d-TC_LANE_04_OUT_20240614_164035_UVSS_RAW.jpg'}, {'width': 640, 'height': 640, 'id': 35, 'file_name': 'images\\\\d90574e5-TC_LANE_04_OUT_20240618_132344_UVSS_RAW.jpg'}, {'width': 640, 'height': 640, 'id': 36, 'file_name': 'images\\\\dae35be0-TC_LANE_04_OUT_20240620_120756_UVSS_RAW.jpg'}, {'width': 640, 'height': 640, 'id': 37, 'file_name': 'images\\\\c9efaa70-TC_LANE_06_OUT_20240419_112012_UVSS_RAW.jpg'}, {'width': 640, 'height': 640, 'id': 38, 'file_name': 'images\\\\736e9175-TC_LANE_06_OUT_20240425_143042_UVSS_RAW.jpg'}, {'width': 640, 'height': 640, 'id': 39, 'file_name': 'images\\\\de715986-TC_LANE_06_OUT_20240503_123747_UVSS_RAW.jpg'}, {'width': 640, 'height': 640, 'id': 40, 'file_name': 'images\\\\ff8fcad8-TC_LANE_06_OUT_20240524_120937_UVSS_RAW.jpg'}, {'width': 640, 'height': 640, 'id': 41, 'file_name': 'images\\\\8bf21aaf-TC_LANE_06_OUT_20240524_133211_UVSS_RAW.jpg'}, {'width': 640, 'height': 640, 'id': 42, 'file_name': 'images\\\\0b6cfc93-CLB_LANE_12_OUT_20240529_120843_UVSS_RAW.jpg'}, {'width': 640, 'height': 640, 'id': 43, 'file_name': 'images\\\\7e91c0e1-CME_LANE_21_IN_20240615_143619_UVSS_RAW.jpg'}, {'width': 640, 'height': 640, 'id': 44, 'file_name': 'images\\\\753a9628-CME_LANE_22_OUT_20240610_151316_UVSS_RAW.jpg'}]\n",
      "\n",
      " images\\9e231222-CME_LANE_22_OUT_20240619_150203_UVSS_RAW.jpg\n",
      "\n",
      " images\\c78c7ce0-TC_LANE_01_IN_20240402_104843_UVSS_RAW.jpg\n",
      "\n",
      " images\\2899c60c-TC_LANE_01_IN_20240403_143931_UVSS_RAW.jpg\n",
      "\n",
      " images\\eb23215f-TC_LANE_01_IN_20240430_085344_UVSS_RAW.jpg\n",
      "\n",
      " images\\eb2aeacb-TC_LANE_01_IN_20240503_112750_UVSS_RAW.jpg\n",
      "\n",
      " images\\ea68102f-TC_LANE_01_IN_20240511_095847_UVSS_RAW.jpg\n",
      "\n",
      " images\\c662fff8-TC_LANE_02_IN_20240404_175759_UVSS_RAW.jpg\n",
      "\n",
      " images\\47302d61-TC_LANE_02_IN_20240406_185543_UVSS_RAW.jpg\n",
      "\n",
      " images\\e5b9fcdf-TC_LANE_02_IN_20240413_162621_UVSS_RAW.jpg\n",
      "\n",
      " images\\c90b4ad4-TC_LANE_02_IN_20240506_163744_UVSS_RAW.jpg\n",
      "\n",
      " images\\aa91f7bf-TC_LANE_03_IN_20240403_090224_UVSS_RAW.jpg\n",
      "\n",
      " images\\01f0cce0-TC_LANE_03_IN_20240405_084514_UVSS_RAW.jpg\n",
      "\n",
      " images\\8cf35684-TC_LANE_03_IN_20240512_164527_UVSS_RAW.jpg\n",
      "\n",
      " images\\6b98e1c7-TC_LANE_04_IN_20240523_114400_UVSS_RAW.jpg\n",
      "\n",
      " images\\2d54dfe9-TC_LANE_04_IN_20240524_112154_UVSS_RAW.jpg\n",
      "\n",
      " images\\94c8b0e6-TC_LANE_04_IN_20240527_155503_UVSS_RAW.jpg\n",
      "\n",
      " images\\8c9edff3-TC_LANE_04_IN_20240528_092218_UVSS_RAW.jpg\n",
      "\n",
      " images\\f8c0a584-TC_LANE_04_IN_20240530_134844_UVSS_RAW.jpg\n",
      "\n",
      " images\\61cec55f-TC_LANE_04_IN_20240530_152344_UVSS_RAW.jpg\n",
      "\n",
      " images\\66f15f48-TC_LANE_04_IN_20240531_103756_UVSS_RAW.jpg\n",
      "\n",
      " images\\b2c32796-TC_LANE_04_OUT_20240508_153339_UVSS_RAW.jpg\n",
      "\n",
      " images\\74f5978e-TC_LANE_04_OUT_20240510_104339_UVSS_RAW.jpg\n",
      "\n",
      " images\\d45f53fa-TC_LANE_04_OUT_20240510_113603_UVSS_RAW.jpg\n",
      "\n",
      " images\\739e196a-TC_LANE_04_OUT_20240510_123803_UVSS_RAW.jpg\n",
      "\n",
      " images\\2d4fd6ea-TC_LANE_04_OUT_20240513_122815_UVSS_RAW.jpg\n",
      "\n",
      " images\\6724e8f3-TC_LANE_04_OUT_20240514_102858_UVSS_RAW.jpg\n",
      "\n",
      " images\\3199f64f-TC_LANE_04_OUT_20240514_145535_UVSS_RAW.jpg\n",
      "\n",
      " images\\eecb9e45-TC_LANE_04_OUT_20240516_125532_UVSS_RAW.jpg\n",
      "\n",
      " images\\adb5c0f6-TC_LANE_04_OUT_20240607_121043_UVSS_RAW.jpg\n",
      "\n",
      " images\\8bfc4d97-TC_LANE_04_OUT_20240610_102718_UVSS_RAW.jpg\n",
      "\n",
      " images\\01875489-TC_LANE_04_OUT_20240610_103308_UVSS_RAW.jpg\n",
      "\n",
      " images\\16c59369-TC_LANE_04_OUT_20240612_121626_UVSS_RAW.jpg\n",
      "\n",
      " images\\7b8131b6-TC_LANE_04_OUT_20240612_143941_UVSS_RAW.jpg\n",
      "\n",
      " images\\b22d085a-TC_LANE_04_OUT_20240612_151240_UVSS_RAW.jpg\n",
      "\n",
      " images\\71b1ae4d-TC_LANE_04_OUT_20240614_164035_UVSS_RAW.jpg\n",
      "\n",
      " images\\d90574e5-TC_LANE_04_OUT_20240618_132344_UVSS_RAW.jpg\n",
      "\n",
      " images\\dae35be0-TC_LANE_04_OUT_20240620_120756_UVSS_RAW.jpg\n",
      "\n",
      " images\\c9efaa70-TC_LANE_06_OUT_20240419_112012_UVSS_RAW.jpg\n",
      "\n",
      " images\\736e9175-TC_LANE_06_OUT_20240425_143042_UVSS_RAW.jpg\n",
      "\n",
      " images\\de715986-TC_LANE_06_OUT_20240503_123747_UVSS_RAW.jpg\n",
      "\n",
      " images\\ff8fcad8-TC_LANE_06_OUT_20240524_120937_UVSS_RAW.jpg\n",
      "\n",
      " images\\8bf21aaf-TC_LANE_06_OUT_20240524_133211_UVSS_RAW.jpg\n",
      "\n",
      " images\\0b6cfc93-CLB_LANE_12_OUT_20240529_120843_UVSS_RAW.jpg\n",
      "\n",
      " images\\7e91c0e1-CME_LANE_21_IN_20240615_143619_UVSS_RAW.jpg\n",
      "\n",
      " images\\753a9628-CME_LANE_22_OUT_20240610_151316_UVSS_RAW.jpg\n"
     ]
    }
   ],
   "execution_count": 1
  },
  {
   "metadata": {
    "ExecuteTime": {
     "end_time": "2025-01-22T07:26:20.857005Z",
     "start_time": "2025-01-22T07:26:20.676813Z"
    }
   },
   "cell_type": "code",
   "source": [
    "# ################## RENAME IMAGES INSIDE JSON FILE (STEP 2 OF 2) ##################\n",
    "import json\n",
    "\n",
    "input_file = 'Path_To_Your_JSON_File'\n",
    "output_file = 'Path_To_Your_JSON_File'\n",
    "with open(input_file, 'r') as f:\n",
    "    data = json.load(f)\n",
    "\n",
    "for image in data['images']:\n",
    "    image['file_name'] = \"Path_To_Your_Dataset\" + image['file_name']\n",
    "# for annotation in images['annotations']:\n",
    "#     for segmentation in annotation['segmentation']:\n",
    "#         annotation['segmentation'] = segmentation\n",
    "with open(output_file, 'w') as f:\n",
    "    json.dump(data, f, indent=4)\n",
    "\n",
    "print(\"Modifications complete. Updated file saved as\", output_file)"
   ],
   "id": "4a0b13251fd630c3",
   "outputs": [
    {
     "name": "stdout",
     "output_type": "stream",
     "text": [
      "Modifications complete. Updated file saved as C:\\Users\\MaxwellLee\\PycharmProjects\\UVSM\\test_jan_22_25\\result.json\n"
     ]
    }
   ],
   "execution_count": 2
  }
 ],
 "metadata": {
  "kernelspec": {
   "display_name": "Python 3",
   "language": "python",
   "name": "python3"
  },
  "language_info": {
   "codemirror_mode": {
    "name": "ipython",
    "version": 2
   },
   "file_extension": ".py",
   "mimetype": "text/x-python",
   "name": "python",
   "nbconvert_exporter": "python",
   "pygments_lexer": "ipython2",
   "version": "2.7.6"
  }
 },
 "nbformat": 4,
 "nbformat_minor": 5
}
