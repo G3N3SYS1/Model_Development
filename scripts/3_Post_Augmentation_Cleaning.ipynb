{
 "cells": [
  {
   "cell_type": "code",
   "id": "initial_id",
   "metadata": {
    "collapsed": true
   },
   "source": [
    "# ################## MODIFY CLASS ISCROWD VALUE ##################\n",
    "import json\n",
    "\n",
    "count = 0\n",
    "input_file = r'Path_To_Your_JSON'\n",
    "output_file = r'Path_To_Your_JSON'\n",
    "with open(input_file, 'r') as f:\n",
    "    data = json.load(f)\n",
    "\n",
    "for annotation in data['annotations']:\n",
    "    if annotation['category_id'] == 4:\n",
    "        annotation['iscrowd'] = 1\n",
    "        \n",
    "with open(output_file, 'w') as f:\n",
    "    json.dump(data, f, indent=4)\n",
    "print(\"Modifications complete. Updated file saved as\", output_file)"
   ],
   "outputs": [],
   "execution_count": null
  },
  {
   "metadata": {},
   "cell_type": "code",
   "source": [
    "# ################## MODIFY JSON FILE DOUBLE BRACKETS ##################\n",
    "import json\n",
    "\n",
    "input_file = r'Path_To_Your_JSON'\n",
    "output_file = r'Path_To_Your_JSON'\n",
    "with open(input_file, 'r') as f:\n",
    "    data = json.load(f)\n",
    "\n",
    "for annotation in data['annotations']:\n",
    "    for segmentation in annotation['segmentation']:\n",
    "        annotation['segmentation'] = segmentation\n",
    "with open(output_file, 'w') as f:\n",
    "    json.dump(data, f, indent=4)\n",
    "      \n",
    "print(\"Modifications complete. Updated file saved as\", output_file)"
   ],
   "id": "69a5728e755dde28",
   "outputs": [],
   "execution_count": null
  }
 ],
 "metadata": {
  "kernelspec": {
   "display_name": "Python 3",
   "language": "python",
   "name": "python3"
  },
  "language_info": {
   "codemirror_mode": {
    "name": "ipython",
    "version": 2
   },
   "file_extension": ".py",
   "mimetype": "text/x-python",
   "name": "python",
   "nbconvert_exporter": "python",
   "pygments_lexer": "ipython2",
   "version": "2.7.6"
  }
 },
 "nbformat": 4,
 "nbformat_minor": 5
}
