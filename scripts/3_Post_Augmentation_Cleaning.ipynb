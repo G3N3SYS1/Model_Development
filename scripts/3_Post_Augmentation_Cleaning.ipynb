{
 "cells": [
  {
   "cell_type": "code",
   "id": "initial_id",
   "metadata": {
    "collapsed": true,
    "ExecuteTime": {
     "end_time": "2024-12-20T08:49:27.173169Z",
     "start_time": "2024-12-20T08:49:01.360480Z"
    }
   },
   "source": [
    "# ################## MODIFY WHEEL CLASS CROWD VALUE ##################\n",
    "import json\n",
    "\n",
    "count = 0\n",
    "input_file = r'C:\\Users\\MaxwellLee\\PycharmProjects\\UVSM\\export_1_image_test\\labels.json'\n",
    "output_file = r'C:\\Users\\MaxwellLee\\PycharmProjects\\UVSM\\export_1_image_test\\labels.json'\n",
    "with open(input_file, 'r') as f:\n",
    "    data = json.load(f)\n",
    "\n",
    "for annotation in data['annotations']:\n",
    "    if annotation['category_id'] == 4:\n",
    "        annotation['iscrowd'] = 0\n",
    "        \n",
    "with open(output_file, 'w') as f:\n",
    "    json.dump(data, f, indent=4)\n",
    "print(\"Modifications complete. Updated file saved as\", output_file)"
   ],
   "outputs": [
    {
     "name": "stdout",
     "output_type": "stream",
     "text": [
      "Modifications complete. Updated file saved as C:\\Users\\MaxwellLee\\PycharmProjects\\UVSM\\export_45_images_test\\labels.json\n"
     ]
    }
   ],
   "execution_count": 6
  },
  {
   "metadata": {
    "ExecuteTime": {
     "end_time": "2025-01-02T02:33:28.059194Z",
     "start_time": "2025-01-02T02:33:25.489438Z"
    }
   },
   "cell_type": "code",
   "source": [
    "# ################## MODIFY JSON FILE DOUBLE BRACKETS ##################\n",
    "import json\n",
    "\n",
    "input_file = r'C:\\Users\\MaxwellLee\\PycharmProjects\\UVSM\\export_1_image_test\\labels.json'\n",
    "output_file = r'C:\\Users\\MaxwellLee\\PycharmProjects\\UVSM\\export_1_image_test\\labels.json'\n",
    "with open(input_file, 'r') as f:\n",
    "    data = json.load(f)\n",
    "\n",
    "for annotation in data['annotations']:\n",
    "    for segmentation in annotation['segmentation']:\n",
    "        annotation['segmentation'] = segmentation\n",
    "with open(output_file, 'w') as f:\n",
    "    json.dump(data, f, indent=4)\n",
    "      \n",
    "print(\"Modifications complete. Updated file saved as\", output_file)"
   ],
   "id": "69a5728e755dde28",
   "outputs": [
    {
     "name": "stdout",
     "output_type": "stream",
     "text": [
      "Modifications complete. Updated file saved as C:\\Users\\MaxwellLee\\PycharmProjects\\UVSM\\export_1_image_test\\labels.json\n"
     ]
    }
   ],
   "execution_count": 2
  }
 ],
 "metadata": {
  "kernelspec": {
   "display_name": "Python 3",
   "language": "python",
   "name": "python3"
  },
  "language_info": {
   "codemirror_mode": {
    "name": "ipython",
    "version": 2
   },
   "file_extension": ".py",
   "mimetype": "text/x-python",
   "name": "python",
   "nbconvert_exporter": "python",
   "pygments_lexer": "ipython2",
   "version": "2.7.6"
  }
 },
 "nbformat": 4,
 "nbformat_minor": 5
}
